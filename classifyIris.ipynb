{
  "nbformat": 4,
  "nbformat_minor": 0,
  "metadata": {
    "colab": {
      "name": "classifyIris.ipynb",
      "provenance": [],
      "authorship_tag": "ABX9TyNyAqSHZnwg9rWZfemiIYOB",
      "include_colab_link": true
    },
    "kernelspec": {
      "name": "python3",
      "display_name": "Python 3"
    }
  },
  "cells": [
    {
      "cell_type": "markdown",
      "metadata": {
        "id": "view-in-github",
        "colab_type": "text"
      },
      "source": [
        "<a href=\"https://colab.research.google.com/github/Rohithv07/ml/blob/master/classifyIris.ipynb\" target=\"_parent\"><img src=\"https://colab.research.google.com/assets/colab-badge.svg\" alt=\"Open In Colab\"/></a>"
      ]
    },
    {
      "cell_type": "markdown",
      "metadata": {
        "id": "Honzfu_a2sAy",
        "colab_type": "text"
      },
      "source": [
        "1)Import the data\n"
      ]
    },
    {
      "cell_type": "code",
      "metadata": {
        "id": "47ZicIPM2weG",
        "colab_type": "code",
        "colab": {}
      },
      "source": [
        "from sklearn.datasets import load_iris\n",
        "iris = load_iris()"
      ],
      "execution_count": 0,
      "outputs": []
    },
    {
      "cell_type": "code",
      "metadata": {
        "id": "9EFz7zR83u5f",
        "colab_type": "code",
        "outputId": "cd332f01-ff39-42af-db51-9cbd429c0405",
        "colab": {
          "base_uri": "https://localhost:8080/",
          "height": 85
        }
      },
      "source": [
        "X = iris.data\n",
        "y = iris.target\n",
        "feature_names = iris.feature_names\n",
        "target_names = iris.target_names\n",
        "feature_names"
      ],
      "execution_count": 4,
      "outputs": [
        {
          "output_type": "execute_result",
          "data": {
            "text/plain": [
              "['sepal length (cm)',\n",
              " 'sepal width (cm)',\n",
              " 'petal length (cm)',\n",
              " 'petal width (cm)']"
            ]
          },
          "metadata": {
            "tags": []
          },
          "execution_count": 4
        }
      ]
    },
    {
      "cell_type": "code",
      "metadata": {
        "id": "g7Xvezy25uaj",
        "colab_type": "code",
        "outputId": "c5b57b4b-f0c0-4cc6-c13f-76222046af24",
        "colab": {
          "base_uri": "https://localhost:8080/",
          "height": 34
        }
      },
      "source": [
        "target_names"
      ],
      "execution_count": 5,
      "outputs": [
        {
          "output_type": "execute_result",
          "data": {
            "text/plain": [
              "array(['setosa', 'versicolor', 'virginica'], dtype='<U10')"
            ]
          },
          "metadata": {
            "tags": []
          },
          "execution_count": 5
        }
      ]
    },
    {
      "cell_type": "markdown",
      "metadata": {
        "id": "1I60G-rK6J8n",
        "colab_type": "text"
      },
      "source": [
        "2)Here no need to clean the data\n",
        "3)Split the data into training and testing sets.\n",
        "\n",
        "---\n",
        "\n"
      ]
    },
    {
      "cell_type": "code",
      "metadata": {
        "id": "q7NResvU6RpZ",
        "colab_type": "code",
        "outputId": "f8fa3da7-0df0-497c-d222-4666f75407b6",
        "colab": {
          "base_uri": "https://localhost:8080/",
          "height": 51
        }
      },
      "source": [
        "from sklearn.model_selection import train_test_split\n",
        "X_train, X_test, y_train, y_test = train_test_split(X, y, test_size=0.2)\n",
        "\n",
        "print(X_train.shape)\n",
        "print(X_test.shape)"
      ],
      "execution_count": 6,
      "outputs": [
        {
          "output_type": "stream",
          "text": [
            "(120, 4)\n",
            "(30, 4)\n"
          ],
          "name": "stdout"
        }
      ]
    },
    {
      "cell_type": "markdown",
      "metadata": {
        "id": "7jEIr6jG8EiG",
        "colab_type": "text"
      },
      "source": [
        "4)Now Model the data"
      ]
    },
    {
      "cell_type": "code",
      "metadata": {
        "id": "_CkwB3FX8IJb",
        "colab_type": "code",
        "outputId": "a5df4db1-b272-4de0-b0b8-b41b98a521a5",
        "colab": {
          "base_uri": "https://localhost:8080/",
          "height": 68
        }
      },
      "source": [
        "from sklearn.neighbors import KNeighborsClassifier\n",
        "knn = KNeighborsClassifier(n_neighbors = 3)\n",
        "knn.fit(X_train, y_train)"
      ],
      "execution_count": 7,
      "outputs": [
        {
          "output_type": "execute_result",
          "data": {
            "text/plain": [
              "KNeighborsClassifier(algorithm='auto', leaf_size=30, metric='minkowski',\n",
              "                     metric_params=None, n_jobs=None, n_neighbors=3, p=2,\n",
              "                     weights='uniform')"
            ]
          },
          "metadata": {
            "tags": []
          },
          "execution_count": 7
        }
      ]
    },
    {
      "cell_type": "markdown",
      "metadata": {
        "id": "5ztA-wGGSmnh",
        "colab_type": "text"
      },
      "source": [
        "5)Test the model"
      ]
    },
    {
      "cell_type": "code",
      "metadata": {
        "id": "mB0zpHBASo7E",
        "colab_type": "code",
        "colab": {}
      },
      "source": [
        "y_pred = knn.predict(X_test)"
      ],
      "execution_count": 0,
      "outputs": []
    },
    {
      "cell_type": "code",
      "metadata": {
        "id": "LSC5x70OTDpI",
        "colab_type": "code",
        "outputId": "9345fc24-aaaf-4021-8756-422aaa704b17",
        "colab": {
          "base_uri": "https://localhost:8080/",
          "height": 34
        }
      },
      "source": [
        "from sklearn import metrics\n",
        "print(metrics.accuracy_score(y_test,y_pred))"
      ],
      "execution_count": 9,
      "outputs": [
        {
          "output_type": "stream",
          "text": [
            "0.9666666666666667\n"
          ],
          "name": "stdout"
        }
      ]
    },
    {
      "cell_type": "code",
      "metadata": {
        "id": "hkox7tHdWWKf",
        "colab_type": "code",
        "outputId": "da3c21ba-ee1a-45e2-a052-a781359fb3c4",
        "colab": {
          "base_uri": "https://localhost:8080/",
          "height": 34
        }
      },
      "source": [
        "sample = [[4,9,4,2], [2,3,5,4]]\n",
        "predictions = knn.predict(sample)\n",
        "pred_species = [iris.target_names[p] for p in predictions]\n",
        "print(\"predictions:\",pred_species)"
      ],
      "execution_count": 10,
      "outputs": [
        {
          "output_type": "stream",
          "text": [
            "predictions: ['setosa', 'virginica']\n"
          ],
          "name": "stdout"
        }
      ]
    },
    {
      "cell_type": "markdown",
      "metadata": {
        "id": "VT7KuJCuD7Zy",
        "colab_type": "text"
      },
      "source": [
        "Using joblib"
      ]
    },
    {
      "cell_type": "code",
      "metadata": {
        "id": "fvBKdmTVBP0f",
        "colab_type": "code",
        "outputId": "ace62f88-76b5-4dea-a580-0610be03b62b",
        "colab": {
          "base_uri": "https://localhost:8080/",
          "height": 34
        }
      },
      "source": [
        "from sklearn.externals import joblib\n",
        "joblib.dump(knn, 'mlbrain.joblib')"
      ],
      "execution_count": 0,
      "outputs": [
        {
          "output_type": "execute_result",
          "data": {
            "text/plain": [
              "['mlbrain.joblib']"
            ]
          },
          "metadata": {
            "tags": []
          },
          "execution_count": 12
        }
      ]
    },
    {
      "cell_type": "code",
      "metadata": {
        "id": "kEdcqD5pC-HS",
        "colab_type": "code",
        "colab": {
          "base_uri": "https://localhost:8080/",
          "height": 34
        },
        "outputId": "7b384853-977b-44cf-c6f2-aabd57196cbd"
      },
      "source": [
        "model = joblib.load('mlbrain.joblib')\n",
        "model.predict(X_test)\n",
        "sample = [[4,9,4,2], [2,3,5,4]]\n",
        "predictions1 = model.predict(sample)\n",
        "pred_species1 = [iris.target_names[p] for p in predictions1]\n",
        "print(\"predictions:\",pred_species1)"
      ],
      "execution_count": 15,
      "outputs": [
        {
          "output_type": "stream",
          "text": [
            "predictions: ['setosa', 'virginica']\n"
          ],
          "name": "stdout"
        }
      ]
    }
  ]
}